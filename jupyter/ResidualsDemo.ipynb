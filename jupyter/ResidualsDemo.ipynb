{
 "cells": [
  {
   "cell_type": "markdown",
   "metadata": {},
   "source": [
    "### We compare residuals obtained with standard uniform and SOBOL sampling"
   ]
  },
  {
   "cell_type": "code",
   "execution_count": 1,
   "metadata": {
    "collapsed": true
   },
   "outputs": [],
   "source": [
    "def f(x):\n",
    "    return 3*x[0]**3 + 4*x[1]**3 - 10*x[0]*x[1]**2 - 2*x[0]**2 + 0.5*x[1]**2 + 2*x[0] + 9*x[1] - 2*x[0]*x[1] + 1"
   ]
  },
  {
   "cell_type": "code",
   "execution_count": 2,
   "metadata": {
    "collapsed": true
   },
   "outputs": [],
   "source": [
    "from numpy.random import uniform"
   ]
  },
  {
   "cell_type": "code",
   "execution_count": 3,
   "metadata": {
    "collapsed": true
   },
   "outputs": [],
   "source": [
    "NPOINTS=2000"
   ]
  },
  {
   "cell_type": "code",
   "execution_count": 4,
   "metadata": {
    "collapsed": true
   },
   "outputs": [],
   "source": [
    "IPOLORDER=3\n"
   ]
  },
  {
   "cell_type": "code",
   "execution_count": 5,
   "metadata": {
    "collapsed": true
   },
   "outputs": [],
   "source": [
    "X_uni=uniform(0,1,(NPOINTS,2))"
   ]
  },
  {
   "cell_type": "code",
   "execution_count": 6,
   "metadata": {
    "collapsed": false
   },
   "outputs": [],
   "source": [
    "Y_uni = map(f, X_uni)"
   ]
  },
  {
   "cell_type": "code",
   "execution_count": 7,
   "metadata": {
    "collapsed": true
   },
   "outputs": [],
   "source": [
    "from pygsl import qrng\n"
   ]
  },
  {
   "cell_type": "code",
   "execution_count": 8,
   "metadata": {
    "collapsed": true
   },
   "outputs": [],
   "source": [
    "SOBOL = qrng.sobol(2)"
   ]
  },
  {
   "cell_type": "code",
   "execution_count": 9,
   "metadata": {
    "collapsed": true
   },
   "outputs": [],
   "source": [
    "X_sobol = SOBOL.get(NPOINTS)"
   ]
  },
  {
   "cell_type": "code",
   "execution_count": 10,
   "metadata": {
    "collapsed": true
   },
   "outputs": [],
   "source": [
    "Y_sobol=map(f, X_sobol)"
   ]
  },
  {
   "cell_type": "code",
   "execution_count": 11,
   "metadata": {
    "collapsed": true
   },
   "outputs": [],
   "source": [
    "import professor2 as prof"
   ]
  },
  {
   "cell_type": "code",
   "execution_count": 12,
   "metadata": {
    "collapsed": true
   },
   "outputs": [],
   "source": [
    "I_uni=prof.Ipol(X_uni, Y_uni, IPOLORDER)"
   ]
  },
  {
   "cell_type": "code",
   "execution_count": 13,
   "metadata": {
    "collapsed": true
   },
   "outputs": [],
   "source": [
    "I_sobol=prof.Ipol(X_sobol, Y_sobol, IPOLORDER)"
   ]
  },
  {
   "cell_type": "code",
   "execution_count": null,
   "metadata": {
    "collapsed": false
   },
   "outputs": [
    {
     "name": "stderr",
     "output_type": "stream",
     "text": [
      "ERROR:root:Internal Python error in the inspect module.\n",
      "Below is the traceback from this internal error.\n",
      "\n",
      "ERROR:root:Internal Python error in the inspect module.\n",
      "Below is the traceback from this internal error.\n",
      "\n"
     ]
    },
    {
     "name": "stdout",
     "output_type": "stream",
     "text": [
      "Traceback (most recent call last):\n",
      "  File \"/usr/lib/python2.7/site-packages/IPython/core/ultratb.py\", line 1132, in get_records\n",
      "    return _fixed_getinnerframes(etb, number_of_lines_of_context, tb_offset)\n",
      "  File \"/usr/lib/python2.7/site-packages/IPython/core/ultratb.py\", line 313, in wrapped\n",
      "    return f(*args, **kwargs)\n",
      "  File \"/usr/lib/python2.7/site-packages/IPython/core/ultratb.py\", line 358, in _fixed_getinnerframes\n",
      "    records = fix_frame_records_filenames(inspect.getinnerframes(etb, context))\n",
      "  File \"/usr/lib64/python2.7/inspect.py\", line 1049, in getinnerframes\n",
      "    framelist.append((tb.tb_frame,) + getframeinfo(tb, context))\n",
      "  File \"/usr/lib64/python2.7/inspect.py\", line 1009, in getframeinfo\n",
      "    filename = getsourcefile(frame) or getfile(frame)\n",
      "  File \"/usr/lib64/python2.7/inspect.py\", line 444, in getsourcefile\n",
      "    filename = getfile(object)\n",
      "  File \"/usr/lib64/python2.7/inspect.py\", line 409, in getfile\n",
      "    if ismethod(object):\n",
      "  File \"/usr/lib64/python2.7/site-packages/ROOT.py\", line 117, in ismethod\n",
      "    if type(object) == _root.MethodProxy:\n",
      "AttributeError: 'NoneType' object has no attribute 'MethodProxy'\n",
      "Traceback (most recent call last):\n",
      "  File \"/usr/lib/python2.7/site-packages/IPython/core/ultratb.py\", line 1132, in get_records\n",
      "    return _fixed_getinnerframes(etb, number_of_lines_of_context, tb_offset)\n",
      "  File \"/usr/lib/python2.7/site-packages/IPython/core/ultratb.py\", line 313, in wrapped\n",
      "    return f(*args, **kwargs)\n",
      "  File \"/usr/lib/python2.7/site-packages/IPython/core/ultratb.py\", line 358, in _fixed_getinnerframes\n",
      "    records = fix_frame_records_filenames(inspect.getinnerframes(etb, context))\n",
      "  File \"/usr/lib64/python2.7/inspect.py\", line 1049, in getinnerframes\n",
      "    framelist.append((tb.tb_frame,) + getframeinfo(tb, context))\n",
      "  File \"/usr/lib64/python2.7/inspect.py\", line 1009, in getframeinfo\n",
      "    filename = getsourcefile(frame) or getfile(frame)\n",
      "  File \"/usr/lib64/python2.7/inspect.py\", line 444, in getsourcefile\n",
      "    filename = getfile(object)\n",
      "  File \"/usr/lib64/python2.7/inspect.py\", line 409, in getfile\n",
      "    if ismethod(object):\n",
      "  File \"/usr/lib64/python2.7/site-packages/ROOT.py\", line 117, in ismethod\n",
      "    if type(object) == _root.MethodProxy:\n",
      "AttributeError: 'NoneType' object has no attribute 'MethodProxy'\n",
      "ERROR! Session/line number was not unique in database. History logging moved to new session 1295\n"
     ]
    }
   ],
   "source": [
    "R_uni = [I_uni.val(x) - Y_uni[num] for num, x in enumerate(X_uni)]"
   ]
  },
  {
   "cell_type": "code",
   "execution_count": null,
   "metadata": {
    "collapsed": false
   },
   "outputs": [
    {
     "name": "stderr",
     "output_type": "stream",
     "text": [
      "ERROR:root:Internal Python error in the inspect module.\n",
      "Below is the traceback from this internal error.\n",
      "\n",
      "ERROR:root:Internal Python error in the inspect module.\n",
      "Below is the traceback from this internal error.\n",
      "\n"
     ]
    },
    {
     "name": "stdout",
     "output_type": "stream",
     "text": [
      "Traceback (most recent call last):\n",
      "  File \"/usr/lib/python2.7/site-packages/IPython/core/ultratb.py\", line 1132, in get_records\n",
      "    return _fixed_getinnerframes(etb, number_of_lines_of_context, tb_offset)\n",
      "  File \"/usr/lib/python2.7/site-packages/IPython/core/ultratb.py\", line 313, in wrapped\n",
      "    return f(*args, **kwargs)\n",
      "  File \"/usr/lib/python2.7/site-packages/IPython/core/ultratb.py\", line 358, in _fixed_getinnerframes\n",
      "    records = fix_frame_records_filenames(inspect.getinnerframes(etb, context))\n",
      "  File \"/usr/lib64/python2.7/inspect.py\", line 1049, in getinnerframes\n",
      "    framelist.append((tb.tb_frame,) + getframeinfo(tb, context))\n",
      "  File \"/usr/lib64/python2.7/inspect.py\", line 1009, in getframeinfo\n",
      "    filename = getsourcefile(frame) or getfile(frame)\n",
      "  File \"/usr/lib64/python2.7/inspect.py\", line 444, in getsourcefile\n",
      "    filename = getfile(object)\n",
      "  File \"/usr/lib64/python2.7/inspect.py\", line 409, in getfile\n",
      "    if ismethod(object):\n",
      "  File \"/usr/lib64/python2.7/site-packages/ROOT.py\", line 117, in ismethod\n",
      "    if type(object) == _root.MethodProxy:\n",
      "AttributeError: 'NoneType' object has no attribute 'MethodProxy'\n",
      "Traceback (most recent call last):\n",
      "ERROR! Session/line number was not unique in  File \"/usr/lib/python2.7/site-packages/IPython/core/ultratb.py\", line 1132, in get_records\n",
      "     return _fixed_getinnerframes(etb, number_of_lines_of_context, tb_offset)\n",
      "database. History logging moved to new session 1291  File \"/usr/lib/python2.7/site-packages/IPython/core/ultratb.py\", line 313, in wrapped\n",
      "\n",
      "    return f(*args, **kwargs)\n",
      "  File \"/usr/lib/python2.7/site-packages/IPython/core/ultratb.py\", line 358, in _fixed_getinnerframes\n",
      "    records = fix_frame_records_filenames(inspect.getinnerframes(etb, context))\n",
      "  File \"/usr/lib64/python2.7/inspect.py\", line 1049, in getinnerframes\n",
      "    framelist.append((tb.tb_frame,) + getframeinfo(tb, context))\n",
      "  File \"/usr/lib64/python2.7/inspect.py\", line 1009, in getframeinfo\n",
      "    filename = getsourcefile(frame) or getfile(frame)\n",
      "  File \"/usr/lib64/python2.7/inspect.py\", line 444, in getsourcefile\n",
      "    filename = getfile(object)\n",
      "  File \"/usr/lib64/python2.7/inspect.py\", line 409, in getfile\n",
      "    if ismethod(object):\n",
      "  File \"/usr/lib64/python2.7/site-packages/ROOT.py\", line 117, in ismethod\n",
      "    if type(object) == _root.MethodProxy:\n",
      "AttributeError: 'NoneType' object has no attribute 'MethodProxy'\n"
     ]
    }
   ],
   "source": [
    "R_sobol = [I_sobol.val(x) - Y_sobol[num] for num, x in enumerate(X_sobol)]"
   ]
  },
  {
   "cell_type": "code",
   "execution_count": null,
   "metadata": {
    "collapsed": false
   },
   "outputs": [
    {
     "name": "stderr",
     "output_type": "stream",
     "text": [
      "ERROR:root:Internal Python error in the inspect module.\n",
      "Below is the traceback from this internal error.\n",
      "\n",
      "ERROR:root:Internal Python error in the inspect module.\n",
      "Below is the traceback from this internal error.\n",
      "\n"
     ]
    },
    {
     "name": "stdout",
     "output_type": "stream",
     "text": [
      "Traceback (most recent call last):\n",
      "  File \"/usr/lib/python2.7/site-packages/IPython/core/ultratb.py\", line 1132, in get_records\n",
      "    return _fixed_getinnerframes(etb, number_of_lines_of_context, tb_offset)\n",
      "  File \"/usr/lib/python2.7/site-packages/IPython/core/ultratb.py\", line 313, in wrapped\n",
      "    return f(*args, **kwargs)\n",
      "  File \"/usr/lib/python2.7/site-packages/IPython/core/ultratb.py\", line 358, in _fixed_getinnerframes\n",
      "    records = fix_frame_records_filenames(inspect.getinnerframes(etb, context))\n",
      "  File \"/usr/lib64/python2.7/inspect.py\", line 1049, in getinnerframes\n",
      "    framelist.append((tb.tb_frame,) + getframeinfo(tb, context))\n",
      "  File \"/usr/lib64/python2.7/inspect.py\", line 1009, in getframeinfo\n",
      "    filename = getsourcefile(frame) or getfile(frame)\n",
      "  File \"/usr/lib64/python2.7/inspect.py\", line 444, in getsourcefile\n",
      "    filename = getfile(object)\n",
      "  File \"/usr/lib64/python2.7/inspect.py\", line 409, in getfile\n",
      "    if ismethod(object):\n",
      "  File \"/usr/lib64/python2.7/site-packages/ROOT.py\", line 117, in ismethod\n",
      "    if type(object) == _root.MethodProxy:\n",
      "AttributeError: 'NoneType' object has no attribute 'MethodProxy'\n",
      "Traceback (most recent call last):\n",
      "  File \"/usr/lib/python2.7/site-packages/IPython/core/ultratb.py\", line 1132, in get_records\n",
      "    return _fixed_getinnerframes(etb, number_of_lines_of_context, tb_offset)\n",
      "  File \"/usr/lib/python2.7/site-packages/IPython/core/ultratb.py\", line 313, in wrapped\n",
      "    return f(*args, **kwargs)\n",
      "  File \"/usr/lib/python2.7/site-packages/IPython/core/ultratb.py\", line 358, in _fixed_getinnerframes\n",
      "    records = fix_frame_records_filenames(inspect.getinnerframes(etb, context))\n",
      "  File \"/usr/lib64/python2.7/inspect.py\", line 1049, in getinnerframes\n",
      "    framelist.append((tb.tb_frame,) + getframeinfo(tb, context))\n",
      "  File \"/usr/lib64/python2.7/inspect.py\", line 1009, in getframeinfo\n",
      "    filename = getsourcefile(frame) or getfile(frame)\n",
      "  File \"/usr/lib64/python2.7/inspect.py\", line 444, in getsourcefile\n",
      "    filename = getfile(object)\n",
      "  File \"/usr/lib64/python2.7/inspect.py\", line 409, in getfile\n",
      "    if ismethod(object):\n",
      "  File \"/usr/lib64/python2.7/site-packages/ROOT.py\", line 117, in ismethod\n",
      "    if type(object) == _root.MethodProxy:\n",
      "AttributeError: 'NoneType' object has no attribute 'MethodProxy'\n"
     ]
    }
   ],
   "source": [
    "%matplotlib inline"
   ]
  },
  {
   "cell_type": "code",
   "execution_count": null,
   "metadata": {
    "collapsed": false
   },
   "outputs": [
    {
     "name": "stderr",
     "output_type": "stream",
     "text": [
      "ERROR:root:Internal Python error in the inspect module.\n",
      "Below is the traceback from this internal error.\n",
      "\n",
      "ERROR:root:Internal Python error in the inspect module.\n",
      "Below is the traceback from this internal error.\n",
      "\n"
     ]
    },
    {
     "name": "stdout",
     "output_type": "stream",
     "text": [
      "ERROR! Session/line number was not unique in database. History logging moved to new session 1292\n",
      "Traceback (most recent call last):\n",
      "  File \"/usr/lib/python2.7/site-packages/IPython/core/ultratb.py\", line 1132, in get_records\n",
      "    return _fixed_getinnerframes(etb, number_of_lines_of_context, tb_offset)\n",
      "  File \"/usr/lib/python2.7/site-packages/IPython/core/ultratb.py\", line 313, in wrapped\n",
      "    return f(*args, **kwargs)\n",
      "  File \"/usr/lib/python2.7/site-packages/IPython/core/ultratb.py\", line 358, in _fixed_getinnerframes\n",
      "    records = fix_frame_records_filenames(inspect.getinnerframes(etb, context))\n",
      "  File \"/usr/lib64/python2.7/inspect.py\", line 1049, in getinnerframes\n",
      "    framelist.append((tb.tb_frame,) + getframeinfo(tb, context))\n",
      "  File \"/usr/lib64/python2.7/inspect.py\", line 1009, in getframeinfo\n",
      "    filename = getsourcefile(frame) or getfile(frame)\n",
      "  File \"/usr/lib64/python2.7/inspect.py\", line 444, in getsourcefile\n",
      "    filename = getfile(object)\n",
      "  File \"/usr/lib64/python2.7/inspect.py\", line 409, in getfile\n",
      "    if ismethod(object):\n",
      "  File \"/usr/lib64/python2.7/site-packages/ROOT.py\", line 117, in ismethod\n",
      "    if type(object) == _root.MethodProxy:\n",
      "AttributeError: 'NoneType' object has no attribute 'MethodProxy'\n",
      "Traceback (most recent call last):\n",
      "  File \"/usr/lib/python2.7/site-packages/IPython/core/ultratb.py\", line 1132, in get_records\n",
      "    return _fixed_getinnerframes(etb, number_of_lines_of_context, tb_offset)\n",
      "  File \"/usr/lib/python2.7/site-packages/IPython/core/ultratb.py\", line 313, in wrapped\n",
      "    return f(*args, **kwargs)\n",
      "  File \"/usr/lib/python2.7/site-packages/IPython/core/ultratb.py\", line 358, in _fixed_getinnerframes\n",
      "    records = fix_frame_records_filenames(inspect.getinnerframes(etb, context))\n",
      "  File \"/usr/lib64/python2.7/inspect.py\", line 1049, in getinnerframes\n",
      "    framelist.append((tb.tb_frame,) + getframeinfo(tb, context))\n",
      "  File \"/usr/lib64/python2.7/inspect.py\", line 1009, in getframeinfo\n",
      "    filename = getsourcefile(frame) or getfile(frame)\n",
      "  File \"/usr/lib64/python2.7/inspect.py\", line 444, in getsourcefile\n",
      "    filename = getfile(object)\n",
      "  File \"/usr/lib64/python2.7/inspect.py\", line 409, in getfile\n",
      "    if ismethod(object):\n",
      "  File \"/usr/lib64/python2.7/site-packages/ROOT.py\", line 117, in ismethod\n",
      "    if type(object) == _root.MethodProxy:\n",
      "AttributeError: 'NoneType' object has no attribute 'MethodProxy'\n"
     ]
    }
   ],
   "source": [
    "%pylab"
   ]
  },
  {
   "cell_type": "code",
   "execution_count": null,
   "metadata": {
    "collapsed": false
   },
   "outputs": [
    {
     "name": "stderr",
     "output_type": "stream",
     "text": [
      "ERROR:root:Internal Python error in the inspect module.\n",
      "Below is the traceback from this internal error.\n",
      "\n",
      "ERROR:root:Internal Python error in the inspect module.\n",
      "Below is the traceback from this internal error.\n",
      "\n"
     ]
    },
    {
     "name": "stdout",
     "output_type": "stream",
     "text": [
      "ERROR! Session/line number was not unique in database. History logging moved to new session 1293\n",
      "Traceback (most recent call last):\n",
      "  File \"/usr/lib/python2.7/site-packages/IPython/core/ultratb.py\", line 1132, in get_records\n",
      "    return _fixed_getinnerframes(etb, number_of_lines_of_context, tb_offset)\n",
      "  File \"/usr/lib/python2.7/site-packages/IPython/core/ultratb.py\", line 313, in wrapped\n",
      "    return f(*args, **kwargs)\n",
      "  File \"/usr/lib/python2.7/site-packages/IPython/core/ultratb.py\", line 358, in _fixed_getinnerframes\n",
      "    records = fix_frame_records_filenames(inspect.getinnerframes(etb, context))\n",
      "  File \"/usr/lib64/python2.7/inspect.py\", line 1049, in getinnerframes\n",
      "    framelist.append((tb.tb_frame,) + getframeinfo(tb, context))\n",
      "  File \"/usr/lib64/python2.7/inspect.py\", line 1009, in getframeinfo\n",
      "    filename = getsourcefile(frame) or getfile(frame)\n",
      "  File \"/usr/lib64/python2.7/inspect.py\", line 444, in getsourcefile\n",
      "    filename = getfile(object)\n",
      "  File \"/usr/lib64/python2.7/inspect.py\", line 409, in getfile\n",
      "    if ismethod(object):\n",
      "  File \"/usr/lib64/python2.7/site-packages/ROOT.py\", line 117, in ismethod\n",
      "    if type(object) == _root.MethodProxy:\n",
      "AttributeError: 'NoneType' object has no attribute 'MethodProxy'\n",
      "Traceback (most recent call last):\n",
      "  File \"/usr/lib/python2.7/site-packages/IPython/core/ultratb.py\", line 1132, in get_records\n",
      "    return _fixed_getinnerframes(etb, number_of_lines_of_context, tb_offset)\n",
      "  File \"/usr/lib/python2.7/site-packages/IPython/core/ultratb.py\", line 313, in wrapped\n",
      "    return f(*args, **kwargs)\n",
      "  File \"/usr/lib/python2.7/site-packages/IPython/core/ultratb.py\", line 358, in _fixed_getinnerframes\n",
      "    records = fix_frame_records_filenames(inspect.getinnerframes(etb, context))\n",
      "ERROR! Session/line number was not unique in  File \"/usr/lib64/python2.7/inspect.py\", line 1049, in getinnerframes\n",
      "     framelist.append((tb.tb_frame,) + getframeinfo(tb, context))\n",
      "database. History logging moved to new session  File \"/usr/lib64/python2.7/inspect.py\", line 1009, in getframeinfo\n",
      "     filename = getsourcefile(frame) or getfile(frame)\n",
      "1294  File \"/usr/lib64/python2.7/inspect.py\", line 444, in getsourcefile\n",
      "\n",
      "    filename = getfile(object)\n",
      "  File \"/usr/lib64/python2.7/inspect.py\", line 409, in getfile\n",
      "    if ismethod(object):\n",
      "  File \"/usr/lib64/python2.7/site-packages/ROOT.py\", line 117, in ismethod\n",
      "    if type(object) == _root.MethodProxy:\n",
      "AttributeError: 'NoneType' object has no attribute 'MethodProxy'\n"
     ]
    }
   ],
   "source": [
    "plt.hist(R_uni, label=\"Uniform sampling\", alpha=0.7)\n",
    "plt.hist(R_sobol, label=\"Sobol sampling\", alpha=0.5)\n",
    "plt.legend()"
   ]
  },
  {
   "cell_type": "code",
   "execution_count": null,
   "metadata": {
    "collapsed": true
   },
   "outputs": [],
   "source": []
  }
 ],
 "metadata": {
  "kernelspec": {
   "display_name": "Python 2",
   "language": "python",
   "name": "python2"
  },
  "language_info": {
   "codemirror_mode": {
    "name": "ipython",
    "version": 2
   },
   "file_extension": ".py",
   "mimetype": "text/x-python",
   "name": "python",
   "nbconvert_exporter": "python",
   "pygments_lexer": "ipython2",
   "version": "2.7.12"
  }
 },
 "nbformat": 4,
 "nbformat_minor": 1
}
